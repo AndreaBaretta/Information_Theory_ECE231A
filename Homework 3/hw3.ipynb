{
 "cells": [
  {
   "cell_type": "code",
   "execution_count": 1,
   "id": "88a820df-c811-48b9-bb2a-1b386fcb7c8d",
   "metadata": {},
   "outputs": [],
   "source": [
    "import numpy as np"
   ]
  },
  {
   "cell_type": "code",
   "execution_count": 2,
   "id": "f52330a9-209c-4435-a64f-2dff7c9be542",
   "metadata": {},
   "outputs": [],
   "source": [
    "# function [r] = binary2real(bits)\n",
    "# % function [r] = binary2real(bits)\n",
    "# % considers a vector of bits to be binary digits starting\n",
    "# % to the right of the decimal point\n",
    "# % eg: binary2real([0 1 1]) = 0.375\n",
    "# r = 0.0;\n",
    "# for k=1:length(bits)\n",
    "#     r = r + bits(k) * 2^(-k);\n",
    "# end\n",
    "\n",
    "def binary2real(bits):\n",
    "    r = 0.0\n",
    "    for k in range(len(bits)):\n",
    "        r = r + bits[k] * 2**(-k)\n",
    "    return r"
   ]
  },
  {
   "cell_type": "code",
   "execution_count": 3,
   "id": "4a0470cc-88c5-4afa-957a-c991cf00fcba",
   "metadata": {},
   "outputs": [],
   "source": [
    "# function [new_low,new_high,bit] = send_bit(low, high)\n",
    "# bit = -1;\n",
    "# new_low = low;\n",
    "# new_high = high;\n",
    "# if (high < 0.5)\n",
    "#     bit = 0;\n",
    "# elseif (low > 0.5)\n",
    "#     bit = 1;\n",
    "#     new_low = new_low - 0.5;\n",
    "#     new_high = new_high - 0.5;\n",
    "# end\n",
    "# if (bit > -1)\n",
    "#     new_low = new_low * 2;\n",
    "#     new_high = new_high * 2;\n",
    "# end\n",
    "\n",
    "def send_bit(low, high):\n",
    "    bit = -1\n",
    "    new_low = low\n",
    "    new_high = high\n",
    "    if high < 0.5:\n",
    "        bit = 0\n",
    "    elif low > 0.5:\n",
    "        bit = 1\n",
    "        new_low = new_low - 0.5\n",
    "        new_high = new_high - 0.5\n",
    "        pass\n",
    "    if bit > -1:\n",
    "        new_low = new_low * 2\n",
    "        new_high = new_high * 2\n",
    "        pass\n",
    "    return (new_low, new_high, bit)\n",
    "        "
   ]
  },
  {
   "cell_type": "code",
   "execution_count": 4,
   "id": "987fea6b-b1e5-42c7-9c42-5b201e28a8bc",
   "metadata": {},
   "outputs": [],
   "source": [
    "# function [new_low,new_high] = encode_symbol (symbol, low, high, ll, ul)\n",
    "# range = high - low;\n",
    "# new_low = low + ll(symbol) * range;\n",
    "# new_high = low + ul(symbol) * range;\n",
    "\n",
    "def encode_symbol(symbol, low, high, ll, ul):\n",
    "    r = high - low\n",
    "    new_low = low + ll[symbol]*r\n",
    "    new_high = low + ul[symbol]*r\n",
    "    return (new_low, new_high)"
   ]
  },
  {
   "cell_type": "code",
   "execution_count": 5,
   "id": "c75135ee-32b5-4f49-8d1e-1c6cb7073d04",
   "metadata": {},
   "outputs": [],
   "source": [
    "import pdb\n",
    "\n",
    "def encode_message(msg, ll, ul):\n",
    "    bits = []\n",
    "    low, high = 0.0, 1.0\n",
    "    for char in msg:\n",
    "\n",
    "        low, high, bit = send_bit(low, high)\n",
    "        while bit != -1:\n",
    "            bits.append(bit)\n",
    "            low, high, bit = send_bit(low, high)\n",
    "        \n",
    "        low, high = encode_symbol(char, low, high, ll, ul)\n",
    "        \n",
    "    return bits"
   ]
  },
  {
   "cell_type": "code",
   "execution_count": 8,
   "id": "7a24c5f9-02a1-44df-9e31-108afcf2dd54",
   "metadata": {},
   "outputs": [
    {
     "data": {
      "text/plain": [
       "[0, 1]"
      ]
     },
     "execution_count": 8,
     "metadata": {},
     "output_type": "execute_result"
    }
   ],
   "source": [
    "# ll = {'a': 0.0, 'b': 0.4, 'c': 0.75, 'T': 0.9}\n",
    "# ul = {'a': 0.4, 'b': 0.75, 'c': 0.9, 'T': 1.0}\n",
    "ll = {'a': 0.0, 'b': 0.3, 'c': 0.6, 'd': 0.7, 'T': 0.9}\n",
    "ul = {'a': 0.3, 'b': 0.6, 'c': 0.7, 'd': 0.9, 'T': 1.0}\n",
    "\n",
    "encode_message('badT', ll, ul)"
   ]
  },
  {
   "cell_type": "code",
   "execution_count": null,
   "id": "759bd2b1-0a93-424e-9670-f7ff1cc64072",
   "metadata": {},
   "outputs": [],
   "source": []
  }
 ],
 "metadata": {
  "kernelspec": {
   "display_name": "Python 3 (ipykernel)",
   "language": "python",
   "name": "python3"
  },
  "language_info": {
   "codemirror_mode": {
    "name": "ipython",
    "version": 3
   },
   "file_extension": ".py",
   "mimetype": "text/x-python",
   "name": "python",
   "nbconvert_exporter": "python",
   "pygments_lexer": "ipython3",
   "version": "3.12.6"
  }
 },
 "nbformat": 4,
 "nbformat_minor": 5
}
